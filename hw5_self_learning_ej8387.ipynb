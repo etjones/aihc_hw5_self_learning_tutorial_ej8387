{
 "cells": [
  {
   "cell_type": "markdown",
   "metadata": {},
   "source": [
    "# AIHC Homework 5: Self Learning Tutorial\n",
    "Evan Jones, evan_jones@utexas.edu ej8387\n",
    "\n"
   ]
  },
  {
   "cell_type": "markdown",
   "metadata": {},
   "source": [
    "## Assignment description\n",
    "### Details\n",
    "For this assignment, you will create a self-learning tutorial using MIMIC data or other publicly available datasets. Being able to teach a concept requires you to have a clear understanding of the topic. Also figuring out the best way to explain something to different audiences helps deepen your understanding. For this project, you will learn how to do something and then create a tutorial that teaches it to someone else.\n",
    "You must complete all parts of this assignment to receive full credit.\n",
    "\n",
    "### Learning Outcomes\n",
    "• Analyze data related to a healthcare topic using ML or DL methods\n",
    "• Create a tutorial that teaches others your method using a presentation, speaker notes, and comments in Python code.\n",
    "• Develop your ability to create and explain analyses.\n",
    "• Evaluate the effectiveness of code tutorials for replicability.\n",
    "\n",
    "### Part 1: Create a Tutorial\n",
    "1. Select a topic related to healthcare using ML/DL methods. Our course lectures provide examples of the kind of projects we are looking for. Please do not do the exact same tutorials. You can extend the tutorials from the course, use different MIMIC tables, or choose different machine learning models.\n",
    "2. Teach it to yourself by building a project. It should be in Python and contain detailed comments that others can use to rebuild your work. We suggest creating a private Google CoLab notebook or GitHub repository you can share.\n",
    "3. Develop slides with step-by-step instructions you can teach to one of your peers. Use speaker notes to keep your slides clear and to the point. You are free to use Google Slides or PowerPoint. You have access to PowerPoint through your university Office 365 account. E\n",
    "Note: If you use MIMIC-Ill for this tutorial, you must follow all of the requirements that you agreed to as a designated user of the dataset."
   ]
  },
  {
   "cell_type": "markdown",
   "metadata": {},
   "source": [
    "## Helper Code\n"
   ]
  },
  {
   "cell_type": "code",
   "execution_count": null,
   "metadata": {},
   "outputs": [],
   "source": [
    "# Excerpt code from a given Jupyter notebook cell into an image suitable for\n",
    "# use in a slide deck.\n",
    "from IPython.display import display, Image\n",
    "\n",
    "def code_to_image(\n",
    "    filename:str,\n",
    "    code_text:str|None=None,\n",
    "    style:str=\"monokai\",\n",
    "    font_size=12,\n",
    "    dpi:int=150,\n",
    "    format=\"png\",\n",
    "    line_numbers=False,\n",
    "):\n",
    "    \"\"\"\n",
    "    Converts Jupyter notebook code cell content to an image.\n",
    "\n",
    "    Parameters:\n",
    "    -----------\n",
    "    code_text: str|None, \n",
    "        text to be highlighted. If empty, use the currently executing cell\n",
    "    style : str, default='monokai'\n",
    "        Syntax highlighting style ('monokai', 'default', 'solarized-dark',\n",
    "        'solarized-light', etc.)\n",
    "    font_size : int, default=10\n",
    "        Font size for the code text.\n",
    "    dpi : int, default=150\n",
    "        The resolution of the image in dots per inch.\n",
    "    format : str, default='png'\n",
    "        The image format ('png', 'jpg', 'svg', 'pdf', etc.).\n",
    "    filename : str, default=None\n",
    "        If provided, the image will be saved to this file.\n",
    "    figsize : tuple, default=None\n",
    "        Figure size in inches (width, height). If None, it's calculated based on content.\n",
    "    line_numbers : bool, default=True\n",
    "        Whether to include line numbers in the code image.\n",
    "\n",
    "    Returns:\n",
    "    --------\n",
    "    IPython.display.Image or None\n",
    "        The image object if filename is None, otherwise None.\n",
    "\n",
    "    Example:\n",
    "    --------\n",
    "    # Capture the current cell\n",
    "    code_to_image()\n",
    "\n",
    "    # Capture a specific cell (e.g., the 3rd cell, index 2)\n",
    "    code_to_image(cell_index=2)\n",
    "\n",
    "    # Save to file with custom styling\n",
    "    code_to_image(style='solarized-light', filename='my_code.png', dpi=300)\n",
    "    \"\"\"\n",
    "    # Import required libraries for syntax highlighting\n",
    "    from pygments import highlight\n",
    "    from pygments.lexers import PythonLexer\n",
    "    from pygments.formatters import ImageFormatter\n",
    "\n",
    "    # In[-1] yields whichever cell was most recently invoked, the calling cell. \n",
    "    code_text = code_text or In[-1] # noqa\n",
    "\n",
    "    # Create an image of the code with syntax highlighting\n",
    "    formatter = ImageFormatter(\n",
    "        style=style, font_size=font_size, line_numbers=line_numbers\n",
    "    )\n",
    "    image_bytes = highlight(code_text, PythonLexer(), formatter)\n",
    "\n",
    "    # Save to file\n",
    "    with open(filename, \"wb\") as f:\n",
    "        f.write(image_bytes)\n",
    "    print(f\"Code image saved to {filename}\")\n",
    "    return filename\n",
    "    # else:\n",
    "    #     # Display the image\n",
    "    #     img = Image(data=image_bytes)\n",
    "    #     display(img)\n",
    "    #     return img\n",
    "\n",
    "\n"
   ]
  },
  {
   "cell_type": "markdown",
   "metadata": {},
   "source": [
    "## Tutorial Outline"
   ]
  },
  {
   "cell_type": "markdown",
   "metadata": {},
   "source": [
    "### Problem Statement\n",
    "My family was recently affected by unexpected side effects both of starting and \n",
    "stopping a new psychiatric drug. While all drugs come with some description of \n",
    "side effects, it's difficult to know how likely one is to encounter them, or how \n",
    "seriously one might be affected. \n",
    "\n",
    "Using a [dataset](https://www.kaggle.com/datasets/sepidehparhami/psychiatric-drug-webmd-reviews) of 62,000 reviews of psychiatric medications on WebMD, we use natural language processing \n",
    "to digest side effects reports for different drugs, and return searchable \n",
    "information summarizing common experiences.\n",
    "\n",
    "It's worth noting that WebMD or other user-supplied-content repositories is **NOT** \n",
    "an unbiased or balanced source of information; most people will only leave reviews\n",
    "for a medication they're *unhappy with*. However, if the worst that users have to\n",
    "say about a drug is that it often makes them sleepy, that's much better than some \n",
    "subset of people believing the drug ruined their lives. (cf. [Mefloquine](https://en.wikipedia.org/wiki/Mefloquine))\n"
   ]
  },
  {
   "cell_type": "markdown",
   "metadata": {},
   "source": [
    "### Dataset acquisition and processing\n"
   ]
  },
  {
   "cell_type": "markdown",
   "metadata": {},
   "source": [
    "After downloading the [dataset](https://www.kaggle.com/datasets/sepidehparhami/psychiatric-drug-webmd-reviews) \n",
    "from Kaggle, we digest the two CSV files into a SQLite database for easy analysis \n",
    "and filtering."
   ]
  },
  {
   "cell_type": "code",
   "execution_count": 4,
   "metadata": {},
   "outputs": [
    {
     "name": "stdout",
     "output_type": "stream",
     "text": [
      "Data set has 61320 rows, with columns: ['Unnamed: 0', 'drug_name', 'date', 'age', 'gender', 'time_on_drug', 'reviewer_type', 'condition', 'rating_overall', 'rating_effectiveness', 'rating_ease_of_use', 'rating_satisfaction', 'text']\n",
      "Database table webmd_reviews has 61320 rows\n"
     ]
    }
   ],
   "source": [
    "# Read data from CSV with Pandas, store in a SQLite database\n",
    "import pandas as pd\n",
    "import sqlite_utils\n",
    "\n",
    "df = pd.read_csv('psychiatric_drug_webmd_reviews.csv.zip')\n",
    "print(f\"Data set has {len(df)} rows, with columns: {list(df.columns)}\")\n",
    "\n",
    "# Load/create a database file\n",
    "DB = sqlite_utils.Database(\"psych_med_reviews.sqlite\")\n",
    "table_name = \"webmd_reviews\"\n",
    "\n",
    "# Add to DB if it's not already there\n",
    "if table_name not in DB.table_names():\n",
    "    DB[table_name].insert_all(df.to_dict(orient=\"records\"))\n",
    "print(f\"Database table {table_name} has {DB[table_name].count} rows\")"
   ]
  },
  {
   "cell_type": "code",
   "execution_count": 5,
   "metadata": {},
   "outputs": [
    {
     "name": "stdout",
     "output_type": "stream",
     "text": [
      "There are 201 unique medications in the database.\n",
      "Dictionary created with 201 unique drugs\n",
      "Drug with most words: Cymbalta Oral (294816 words)\n",
      "Drug with least words: Vanatrip Oral (0 words)\n"
     ]
    }
   ],
   "source": [
    "# Count words in reviews for each drug\n",
    "column_details = DB[table_name].analyze_column('drug_name')\n",
    "\n",
    "print(f\"There are {column_details.num_distinct} unique medications in the database.\")\n",
    "# Generate a dictionary of drug names and their associated notes\n",
    "drug_notes = {}\n",
    "for row in DB[table_name].rows:\n",
    "    drug_name = row['drug_name']\n",
    "    note = row['text']\n",
    "    if drug_name not in drug_notes:\n",
    "        drug_notes[drug_name] = []\n",
    "    drug_notes[drug_name].append(note)\n",
    "\n",
    "print(f\"Dictionary created with {len(drug_notes)} unique drugs\")\n",
    "# Count total words for each drug and show the max and min word count\n",
    "word_counts = {}\n",
    "for drug, notes in drug_notes.items():\n",
    "    word_counts[drug] = 0\n",
    "    if notes:\n",
    "        word_counts[drug] = sum(len(note.split()) if note else 0 for note in notes)\n",
    "# sort the entries in word_counts by length        \n",
    "word_counts = dict(sorted(word_counts.items(), key=lambda x: x[1]))\n",
    "\n",
    "\n",
    "max_word_drug = max(word_counts, key=word_counts.get)\n",
    "min_word_drug = min(word_counts, key=word_counts.get)\n",
    "\n",
    "print(f\"Drug with most words: {max_word_drug} ({word_counts[max_word_drug]} words)\")\n",
    "print(f\"Drug with least words: {min_word_drug} ({word_counts[min_word_drug]} words)\")\n"
   ]
  },
  {
   "cell_type": "markdown",
   "metadata": {},
   "source": [
    "### Set up the `llm` tool"
   ]
  },
  {
   "cell_type": "code",
   "execution_count": 6,
   "metadata": {},
   "outputs": [
    {
     "data": {
      "text/plain": [
       "<Anthropic Messages: anthropic/claude-3-5-haiku-latest>"
      ]
     },
     "execution_count": 6,
     "metadata": {},
     "output_type": "execute_result"
    }
   ],
   "source": [
    "# Make sure we've got an API key we can use, and install any needed plugins\n",
    "# Get an Anthropic API Key, then store it with `llm`\n",
    "# llm keys set anthropic \n",
    "# install the Anthropic plugin  \n",
    "# llm install llm-anthropic\n",
    "import llm\n",
    "# Cost, as of 2025-03-14: $0.8/million tokens input, $4/mil output\n",
    "model = llm.get_model(\"anthropic/claude-3-5-haiku-latest\")\n",
    "model\n"
   ]
  },
  {
   "cell_type": "code",
   "execution_count": 7,
   "metadata": {},
   "outputs": [
    {
     "name": "stdout",
     "output_type": "stream",
     "text": [
      "Here's a summary of patients' experiences with Rexulti:\n",
      "\n",
      "Positive Experiences:\n",
      "- Significant improvement in depression symptoms\n",
      "- Reduced anxiety and negative thoughts\n",
      "- Increased motivation and energy\n",
      "- Better cognitive function and emotional stability\n",
      "- Helpful for bipolar disorder and mood regulation\n",
      "\n",
      "Negative Experiences:\n",
      "- Substantial weight gain (many reports of 10-40 pounds)\n",
      "- Increased appetite\n",
      "- Drowsiness and fatigue\n",
      "- Vivid or disturbing dreams\n",
      "- Some experienced worsened anxiety or mood swings\n",
      "- Potential severe side effects like:\n",
      "  - Memory issues\n",
      "  - Parkinson-like symptoms\n",
      "  - Panic attacks\n",
      "  - Intense mood changes\n",
      "\n",
      "Most patients reported mixed experiences, with many finding the mental health benefits outweighed the side effects. The medication seemed particularly effective for treatment-resistant depression and bipolar disorder.\n",
      "\n",
      "Notable Excerpts:\n",
      "- \"Rexulti has changed my life for the better\"\n",
      "- \"This drug almost ruined me had I continued to use it\"\n",
      "- \"A miracle drug for my depression\"\n",
      "\n",
      "Dosage typically ranged from 0.5-3 mg, with most finding effectiveness between 1-2 mg. Individual responses varied dramatically, emphasizing the importance of personalized medical supervision.\n"
     ]
    }
   ],
   "source": [
    "\n",
    "# find the first drug with 10_000 words of review and submit it to an llm for summary\n",
    "trial_drug = next(drug for drug, count in word_counts.items() if count > 10_000)\n",
    "\n",
    "\n",
    "review_prompt = f\"\"\"I'm appending a number of anonymized patient reviews for the \n",
    "medication {trial_drug} below. Please read the review and give me a short summary of \n",
    "patients' feelings about the drug. You might list people's favorite good points,\n",
    "and least-liked elements about the experience. Pay attention to people who have \n",
    "very strong positive or negative experiences, and include excerpts from those \n",
    "reviews occasionally if they're very unusual. As an example, please don't include\n",
    "any excerpts about common mild symptoms, but if one user reports life-changing \n",
    "headaches or amnesia, that's probably worth highlighting. Try to limit your summary\n",
    "to about two hundred words. \n",
    "\n",
    "Please don't introduct the summary, just begin right away\n",
    "\n",
    "Reviews follow, and each is bracketed by <review> to start and </review> to end.\n",
    "\n",
    "\n",
    "\"\"\"\n",
    "\n",
    "\n",
    "prompt_with_reviews = review_prompt + \"\\n\".join([f'<review>{note}</review>' for note in drug_notes[trial_drug]])\n",
    "\n",
    "drug_summaries = {}\n",
    "\n",
    "response = model.prompt(prompt_with_reviews)\n",
    "drug_summaries[trial_drug] = response.text()\n",
    "\n",
    "print(drug_summaries[trial_drug])\n"
   ]
  },
  {
   "cell_type": "markdown",
   "metadata": {},
   "source": [
    "We want to be able to group all records for a given medication together. \n",
    "Then we'll feed them into an LLM as context, and get a summary back. \n",
    "\n",
    "Steps:\n",
    "- download data\n",
    "- partition data by medication\n",
    "- create a prompt describing the user experience summaries we want\n",
    "- Use the `llm` tool to fetch summaries for each medication\n",
    "- Create a searchable website to present information and "
   ]
  },
  {
   "cell_type": "markdown",
   "metadata": {},
   "source": [
    "### Data analysis\n"
   ]
  },
  {
   "cell_type": "markdown",
   "metadata": {},
   "source": [
    "### Results and Conclusions"
   ]
  },
  {
   "cell_type": "code",
   "execution_count": 10,
   "metadata": {},
   "outputs": [
    {
     "name": "stdout",
     "output_type": "stream",
     "text": [
      "Code image saved to cell_out_2.png\n"
     ]
    },
    {
     "data": {
      "image/png": "[encoded data removed]",
      "text/plain": [
       "<IPython.core.display.Image object>"
      ]
     },
     "metadata": {},
     "output_type": "display_data"
    }
   ],
   "source": [
    "image_path = code_to_image(filename='assets/cell_out_2.png')\n",
    "display(Image(filename=image_path))\n"
   ]
  },
  {
   "cell_type": "markdown",
   "metadata": {},
   "source": []
  }
 ],
 "metadata": {
  "kernelspec": {
   "display_name": ".venv",
   "language": "python",
   "name": "python3"
  },
  "language_info": {
   "codemirror_mode": {
    "name": "ipython",
    "version": 3
   },
   "file_extension": ".py",
   "mimetype": "text/x-python",
   "name": "python",
   "nbconvert_exporter": "python",
   "pygments_lexer": "ipython3",
   "version": "3.11.6"
  }
 },
 "nbformat": 4,
 "nbformat_minor": 2
}
